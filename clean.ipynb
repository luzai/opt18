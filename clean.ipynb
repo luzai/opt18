{
 "cells": [
  {
   "cell_type": "code",
   "execution_count": null,
   "metadata": {
    "collapsed": false
   },
   "outputs": [],
   "source": [
    "from lz import * \n",
    "from git import Repo\n",
    "%load_ext autoreload\n",
    "%autoreload 2\n",
    "%matplotlib inline\n",
    "import matplotlib\n",
    "matplotlib.style.use('ggplot')\n",
    "\n",
    "from IPython.core.interactiveshell import InteractiveShell\n",
    "InteractiveShell.ast_node_interactivity = \"all\""
   ]
  },
  {
   "cell_type": "code",
   "execution_count": null,
   "metadata": {
    "collapsed": true
   },
   "outputs": [],
   "source": [
    "path=root_path+'/opt'"
   ]
  },
  {
   "cell_type": "code",
   "execution_count": null,
   "metadata": {
    "collapsed": false
   },
   "outputs": [],
   "source": [
    "repo=Repo(path)\n",
    "repo.is_dirty()\n",
    "repo.untracked_files\n",
    "repo.branches"
   ]
  },
  {
   "cell_type": "code",
   "execution_count": null,
   "metadata": {
    "collapsed": false,
    "scrolled": true
   },
   "outputs": [],
   "source": [
    "branch_names = [b.name for b in repo.branches]\n",
    "clean_names =[]\n",
    "for name in branch_names:\n",
    "    git.checkout(name)\n",
    "#     clean_name = name.split('.')[0]\n",
    "    clean_name = name.replace('.2','').replace('.finish','')\n",
    "    clean_names.append(clean_name) \n",
    "#     continue \n",
    "    shell('trash '+clean_name, block=False)\n",
    "    cp('./opt/', clean_name ,block=False)    \n",
    "clean_names    "
   ]
  },
  {
   "cell_type": "code",
   "execution_count": null,
   "metadata": {
    "collapsed": true
   },
   "outputs": [],
   "source": [
    "os.chdir(root_path)"
   ]
  },
  {
   "cell_type": "code",
   "execution_count": null,
   "metadata": {
    "collapsed": false
   },
   "outputs": [],
   "source": [
    "pwd"
   ]
  },
  {
   "cell_type": "code",
   "execution_count": null,
   "metadata": {
    "collapsed": false
   },
   "outputs": [],
   "source": [
    "shell('find . -name \"*.aux\" -exec rm {} \\; ')"
   ]
  },
  {
   "cell_type": "code",
   "execution_count": null,
   "metadata": {
    "collapsed": false,
    "scrolled": true
   },
   "outputs": [],
   "source": [
    "# shell('find . -name \"*.aux\" -exec rm{}\\;')\n",
    "for name in clean_names:\n",
    "    os.chdir(name) \n",
    "#     shell('make clean',block=True)\n",
    "    shell('make',block=False)\n",
    "    shell('make',block=True)\n",
    "    os.chdir(root_path)"
   ]
  },
  {
   "cell_type": "code",
   "execution_count": null,
   "metadata": {
    "collapsed": false
   },
   "outputs": [],
   "source": [
    "clean_names"
   ]
  },
  {
   "cell_type": "code",
   "execution_count": null,
   "metadata": {
    "collapsed": false
   },
   "outputs": [],
   "source": [
    "shell('trash bin')\n",
    "mkdir_p('bin')\n",
    "for file in glob.glob('*/main*.pdf'):\n",
    "    dn,fn = file.split('/')\n",
    "    if dn not in clean_names: continue\n",
    "    if not file.endswith('main.pdf'):\n",
    "        dn = fn.split('_')[-1]\n",
    "        cp(file,'bin/'+dn)\n",
    "#         'bin/'+dn\n",
    "    else:\n",
    "        cp(file,'bin/'+dn+'.pdf')\n",
    "#         'bin/'+dn+'.pdf'"
   ]
  },
  {
   "cell_type": "code",
   "execution_count": null,
   "metadata": {
    "collapsed": false
   },
   "outputs": [],
   "source": [
    "ls bin"
   ]
  },
  {
   "cell_type": "code",
   "execution_count": null,
   "metadata": {
    "collapsed": false
   },
   "outputs": [],
   "source": [
    "for name in clean_names:\n",
    "    name\n",
    "    shell(f'trash {name}/.git')"
   ]
  },
  {
   "cell_type": "code",
   "execution_count": null,
   "metadata": {
    "collapsed": true
   },
   "outputs": [],
   "source": []
  }
 ],
 "metadata": {
  "kernelspec": {
   "display_name": "Python 2",
   "language": "python",
   "name": "python2"
  },
  "language_info": {
   "codemirror_mode": {
    "name": "ipython",
    "version": 2
   },
   "file_extension": ".py",
   "mimetype": "text/x-python",
   "name": "python",
   "nbconvert_exporter": "python",
   "pygments_lexer": "ipython2",
   "version": "2.7.15rc1"
  }
 },
 "nbformat": 4,
 "nbformat_minor": 2
}
